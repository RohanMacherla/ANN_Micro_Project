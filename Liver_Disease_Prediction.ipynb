{
  "nbformat": 4,
  "nbformat_minor": 0,
  "metadata": {
    "colab": {
      "provenance": [],
      "gpuType": "T4",
      "include_colab_link": true
    },
    "kernelspec": {
      "name": "python3",
      "display_name": "Python 3"
    },
    "language_info": {
      "name": "python"
    },
    "accelerator": "GPU"
  },
  "cells": [
    {
      "cell_type": "markdown",
      "metadata": {
        "id": "view-in-github",
        "colab_type": "text"
      },
      "source": [
        "<a href=\"https://colab.research.google.com/github/RohanMacherla/ANN_Micro_Project/blob/main/Liver_Disease_Prediction.ipynb\" target=\"_parent\"><img src=\"https://colab.research.google.com/assets/colab-badge.svg\" alt=\"Open In Colab\"/></a>"
      ]
    },
    {
      "cell_type": "code",
      "execution_count": null,
      "metadata": {
        "id": "u9PuqBeEU_HJ"
      },
      "outputs": [],
      "source": [
        "import pandas as pd\n",
        "df = pd.read_csv('/content/Liver_Disease_data.csv')"
      ]
    },
    {
      "cell_type": "code",
      "source": [
        "df"
      ],
      "metadata": {
        "id": "Bwuj7CgJWtBA",
        "colab": {
          "base_uri": "https://localhost:8080/",
          "height": 443
        },
        "outputId": "b51b882a-1e9d-4c1b-86ae-c79cbefd4c27"
      },
      "execution_count": null,
      "outputs": [
        {
          "output_type": "execute_result",
          "data": {
            "text/plain": [
              "           category    age sex  albumin  alkaline_phosphatase  \\\n",
              "0        no_disease  32.00   m    38.50                 52.50   \n",
              "1        no_disease  32.00   m    38.50                 70.30   \n",
              "2        no_disease  32.00   m    46.90                 74.70   \n",
              "3        no_disease  32.00   m    43.20                 52.00   \n",
              "4        no_disease  32.00   m    39.20                 74.10   \n",
              "...             ...    ...  ..      ...                   ...   \n",
              "100197   no_disease  50.06   m    40.32                 70.51   \n",
              "100198    cirrhosis  63.88   f    28.96                 87.10   \n",
              "100199   no_disease  37.02   m    44.82                 94.19   \n",
              "100200   no_disease  51.01   f    41.42                136.96   \n",
              "100201    hepatitis  49.89   f    39.93                 32.63   \n",
              "\n",
              "        alanine_aminotransferase  aspartate_aminotransferase  bilirubin  \\\n",
              "0                           7.70                       22.10       7.50   \n",
              "1                          18.00                       24.70       3.90   \n",
              "2                          36.20                       52.60       6.10   \n",
              "3                          30.60                       22.60      18.90   \n",
              "4                          32.60                       24.80       9.60   \n",
              "...                          ...                         ...        ...   \n",
              "100197                     46.42                       32.07       6.91   \n",
              "100198                      3.61                       99.00      47.85   \n",
              "100199                     32.13                       36.80       6.06   \n",
              "100200                     32.96                       20.02       5.06   \n",
              "100201                      9.16                       45.87      10.10   \n",
              "\n",
              "        cholinesterase  cholesterol  creatinine  gamma_glutamyl_transferase  \\\n",
              "0                 6.93         3.23      106.00                       12.10   \n",
              "1                11.17         4.80       74.00                       15.60   \n",
              "2                 8.84         5.20       86.00                       33.20   \n",
              "3                 7.33         4.74       80.00                       33.80   \n",
              "4                 9.15         4.32       76.00                       29.90   \n",
              "...                ...          ...         ...                         ...   \n",
              "100197            7.95         3.93       76.87                       16.90   \n",
              "100198            1.57         3.56       66.53                       64.09   \n",
              "100199            9.67         4.25      113.11                       23.86   \n",
              "100200           10.23         6.30       77.04                      106.73   \n",
              "100201            7.49         4.81       56.44                       22.29   \n",
              "\n",
              "        protein  \n",
              "0         69.00  \n",
              "1         76.50  \n",
              "2         79.30  \n",
              "3         75.70  \n",
              "4         68.70  \n",
              "...         ...  \n",
              "100197    69.04  \n",
              "100198    82.01  \n",
              "100199    72.43  \n",
              "100200    72.20  \n",
              "100201    70.00  \n",
              "\n",
              "[100202 rows x 13 columns]"
            ],
            "text/html": [
              "\n",
              "  <div id=\"df-68c839c8-dae0-449e-b290-3081bcdac322\" class=\"colab-df-container\">\n",
              "    <div>\n",
              "<style scoped>\n",
              "    .dataframe tbody tr th:only-of-type {\n",
              "        vertical-align: middle;\n",
              "    }\n",
              "\n",
              "    .dataframe tbody tr th {\n",
              "        vertical-align: top;\n",
              "    }\n",
              "\n",
              "    .dataframe thead th {\n",
              "        text-align: right;\n",
              "    }\n",
              "</style>\n",
              "<table border=\"1\" class=\"dataframe\">\n",
              "  <thead>\n",
              "    <tr style=\"text-align: right;\">\n",
              "      <th></th>\n",
              "      <th>category</th>\n",
              "      <th>age</th>\n",
              "      <th>sex</th>\n",
              "      <th>albumin</th>\n",
              "      <th>alkaline_phosphatase</th>\n",
              "      <th>alanine_aminotransferase</th>\n",
              "      <th>aspartate_aminotransferase</th>\n",
              "      <th>bilirubin</th>\n",
              "      <th>cholinesterase</th>\n",
              "      <th>cholesterol</th>\n",
              "      <th>creatinine</th>\n",
              "      <th>gamma_glutamyl_transferase</th>\n",
              "      <th>protein</th>\n",
              "    </tr>\n",
              "  </thead>\n",
              "  <tbody>\n",
              "    <tr>\n",
              "      <th>0</th>\n",
              "      <td>no_disease</td>\n",
              "      <td>32.00</td>\n",
              "      <td>m</td>\n",
              "      <td>38.50</td>\n",
              "      <td>52.50</td>\n",
              "      <td>7.70</td>\n",
              "      <td>22.10</td>\n",
              "      <td>7.50</td>\n",
              "      <td>6.93</td>\n",
              "      <td>3.23</td>\n",
              "      <td>106.00</td>\n",
              "      <td>12.10</td>\n",
              "      <td>69.00</td>\n",
              "    </tr>\n",
              "    <tr>\n",
              "      <th>1</th>\n",
              "      <td>no_disease</td>\n",
              "      <td>32.00</td>\n",
              "      <td>m</td>\n",
              "      <td>38.50</td>\n",
              "      <td>70.30</td>\n",
              "      <td>18.00</td>\n",
              "      <td>24.70</td>\n",
              "      <td>3.90</td>\n",
              "      <td>11.17</td>\n",
              "      <td>4.80</td>\n",
              "      <td>74.00</td>\n",
              "      <td>15.60</td>\n",
              "      <td>76.50</td>\n",
              "    </tr>\n",
              "    <tr>\n",
              "      <th>2</th>\n",
              "      <td>no_disease</td>\n",
              "      <td>32.00</td>\n",
              "      <td>m</td>\n",
              "      <td>46.90</td>\n",
              "      <td>74.70</td>\n",
              "      <td>36.20</td>\n",
              "      <td>52.60</td>\n",
              "      <td>6.10</td>\n",
              "      <td>8.84</td>\n",
              "      <td>5.20</td>\n",
              "      <td>86.00</td>\n",
              "      <td>33.20</td>\n",
              "      <td>79.30</td>\n",
              "    </tr>\n",
              "    <tr>\n",
              "      <th>3</th>\n",
              "      <td>no_disease</td>\n",
              "      <td>32.00</td>\n",
              "      <td>m</td>\n",
              "      <td>43.20</td>\n",
              "      <td>52.00</td>\n",
              "      <td>30.60</td>\n",
              "      <td>22.60</td>\n",
              "      <td>18.90</td>\n",
              "      <td>7.33</td>\n",
              "      <td>4.74</td>\n",
              "      <td>80.00</td>\n",
              "      <td>33.80</td>\n",
              "      <td>75.70</td>\n",
              "    </tr>\n",
              "    <tr>\n",
              "      <th>4</th>\n",
              "      <td>no_disease</td>\n",
              "      <td>32.00</td>\n",
              "      <td>m</td>\n",
              "      <td>39.20</td>\n",
              "      <td>74.10</td>\n",
              "      <td>32.60</td>\n",
              "      <td>24.80</td>\n",
              "      <td>9.60</td>\n",
              "      <td>9.15</td>\n",
              "      <td>4.32</td>\n",
              "      <td>76.00</td>\n",
              "      <td>29.90</td>\n",
              "      <td>68.70</td>\n",
              "    </tr>\n",
              "    <tr>\n",
              "      <th>...</th>\n",
              "      <td>...</td>\n",
              "      <td>...</td>\n",
              "      <td>...</td>\n",
              "      <td>...</td>\n",
              "      <td>...</td>\n",
              "      <td>...</td>\n",
              "      <td>...</td>\n",
              "      <td>...</td>\n",
              "      <td>...</td>\n",
              "      <td>...</td>\n",
              "      <td>...</td>\n",
              "      <td>...</td>\n",
              "      <td>...</td>\n",
              "    </tr>\n",
              "    <tr>\n",
              "      <th>100197</th>\n",
              "      <td>no_disease</td>\n",
              "      <td>50.06</td>\n",
              "      <td>m</td>\n",
              "      <td>40.32</td>\n",
              "      <td>70.51</td>\n",
              "      <td>46.42</td>\n",
              "      <td>32.07</td>\n",
              "      <td>6.91</td>\n",
              "      <td>7.95</td>\n",
              "      <td>3.93</td>\n",
              "      <td>76.87</td>\n",
              "      <td>16.90</td>\n",
              "      <td>69.04</td>\n",
              "    </tr>\n",
              "    <tr>\n",
              "      <th>100198</th>\n",
              "      <td>cirrhosis</td>\n",
              "      <td>63.88</td>\n",
              "      <td>f</td>\n",
              "      <td>28.96</td>\n",
              "      <td>87.10</td>\n",
              "      <td>3.61</td>\n",
              "      <td>99.00</td>\n",
              "      <td>47.85</td>\n",
              "      <td>1.57</td>\n",
              "      <td>3.56</td>\n",
              "      <td>66.53</td>\n",
              "      <td>64.09</td>\n",
              "      <td>82.01</td>\n",
              "    </tr>\n",
              "    <tr>\n",
              "      <th>100199</th>\n",
              "      <td>no_disease</td>\n",
              "      <td>37.02</td>\n",
              "      <td>m</td>\n",
              "      <td>44.82</td>\n",
              "      <td>94.19</td>\n",
              "      <td>32.13</td>\n",
              "      <td>36.80</td>\n",
              "      <td>6.06</td>\n",
              "      <td>9.67</td>\n",
              "      <td>4.25</td>\n",
              "      <td>113.11</td>\n",
              "      <td>23.86</td>\n",
              "      <td>72.43</td>\n",
              "    </tr>\n",
              "    <tr>\n",
              "      <th>100200</th>\n",
              "      <td>no_disease</td>\n",
              "      <td>51.01</td>\n",
              "      <td>f</td>\n",
              "      <td>41.42</td>\n",
              "      <td>136.96</td>\n",
              "      <td>32.96</td>\n",
              "      <td>20.02</td>\n",
              "      <td>5.06</td>\n",
              "      <td>10.23</td>\n",
              "      <td>6.30</td>\n",
              "      <td>77.04</td>\n",
              "      <td>106.73</td>\n",
              "      <td>72.20</td>\n",
              "    </tr>\n",
              "    <tr>\n",
              "      <th>100201</th>\n",
              "      <td>hepatitis</td>\n",
              "      <td>49.89</td>\n",
              "      <td>f</td>\n",
              "      <td>39.93</td>\n",
              "      <td>32.63</td>\n",
              "      <td>9.16</td>\n",
              "      <td>45.87</td>\n",
              "      <td>10.10</td>\n",
              "      <td>7.49</td>\n",
              "      <td>4.81</td>\n",
              "      <td>56.44</td>\n",
              "      <td>22.29</td>\n",
              "      <td>70.00</td>\n",
              "    </tr>\n",
              "  </tbody>\n",
              "</table>\n",
              "<p>100202 rows × 13 columns</p>\n",
              "</div>\n",
              "    <div class=\"colab-df-buttons\">\n",
              "\n",
              "  <div class=\"colab-df-container\">\n",
              "    <button class=\"colab-df-convert\" onclick=\"convertToInteractive('df-68c839c8-dae0-449e-b290-3081bcdac322')\"\n",
              "            title=\"Convert this dataframe to an interactive table.\"\n",
              "            style=\"display:none;\">\n",
              "\n",
              "  <svg xmlns=\"http://www.w3.org/2000/svg\" height=\"24px\" viewBox=\"0 -960 960 960\">\n",
              "    <path d=\"M120-120v-720h720v720H120Zm60-500h600v-160H180v160Zm220 220h160v-160H400v160Zm0 220h160v-160H400v160ZM180-400h160v-160H180v160Zm440 0h160v-160H620v160ZM180-180h160v-160H180v160Zm440 0h160v-160H620v160Z\"/>\n",
              "  </svg>\n",
              "    </button>\n",
              "\n",
              "  <style>\n",
              "    .colab-df-container {\n",
              "      display:flex;\n",
              "      gap: 12px;\n",
              "    }\n",
              "\n",
              "    .colab-df-convert {\n",
              "      background-color: #E8F0FE;\n",
              "      border: none;\n",
              "      border-radius: 50%;\n",
              "      cursor: pointer;\n",
              "      display: none;\n",
              "      fill: #1967D2;\n",
              "      height: 32px;\n",
              "      padding: 0 0 0 0;\n",
              "      width: 32px;\n",
              "    }\n",
              "\n",
              "    .colab-df-convert:hover {\n",
              "      background-color: #E2EBFA;\n",
              "      box-shadow: 0px 1px 2px rgba(60, 64, 67, 0.3), 0px 1px 3px 1px rgba(60, 64, 67, 0.15);\n",
              "      fill: #174EA6;\n",
              "    }\n",
              "\n",
              "    .colab-df-buttons div {\n",
              "      margin-bottom: 4px;\n",
              "    }\n",
              "\n",
              "    [theme=dark] .colab-df-convert {\n",
              "      background-color: #3B4455;\n",
              "      fill: #D2E3FC;\n",
              "    }\n",
              "\n",
              "    [theme=dark] .colab-df-convert:hover {\n",
              "      background-color: #434B5C;\n",
              "      box-shadow: 0px 1px 3px 1px rgba(0, 0, 0, 0.15);\n",
              "      filter: drop-shadow(0px 1px 2px rgba(0, 0, 0, 0.3));\n",
              "      fill: #FFFFFF;\n",
              "    }\n",
              "  </style>\n",
              "\n",
              "    <script>\n",
              "      const buttonEl =\n",
              "        document.querySelector('#df-68c839c8-dae0-449e-b290-3081bcdac322 button.colab-df-convert');\n",
              "      buttonEl.style.display =\n",
              "        google.colab.kernel.accessAllowed ? 'block' : 'none';\n",
              "\n",
              "      async function convertToInteractive(key) {\n",
              "        const element = document.querySelector('#df-68c839c8-dae0-449e-b290-3081bcdac322');\n",
              "        const dataTable =\n",
              "          await google.colab.kernel.invokeFunction('convertToInteractive',\n",
              "                                                    [key], {});\n",
              "        if (!dataTable) return;\n",
              "\n",
              "        const docLinkHtml = 'Like what you see? Visit the ' +\n",
              "          '<a target=\"_blank\" href=https://colab.research.google.com/notebooks/data_table.ipynb>data table notebook</a>'\n",
              "          + ' to learn more about interactive tables.';\n",
              "        element.innerHTML = '';\n",
              "        dataTable['output_type'] = 'display_data';\n",
              "        await google.colab.output.renderOutput(dataTable, element);\n",
              "        const docLink = document.createElement('div');\n",
              "        docLink.innerHTML = docLinkHtml;\n",
              "        element.appendChild(docLink);\n",
              "      }\n",
              "    </script>\n",
              "  </div>\n",
              "\n",
              "\n",
              "    <div id=\"df-34dbea53-aaa1-47a9-8edb-e1f0fa9d7fd6\">\n",
              "      <button class=\"colab-df-quickchart\" onclick=\"quickchart('df-34dbea53-aaa1-47a9-8edb-e1f0fa9d7fd6')\"\n",
              "                title=\"Suggest charts\"\n",
              "                style=\"display:none;\">\n",
              "\n",
              "<svg xmlns=\"http://www.w3.org/2000/svg\" height=\"24px\"viewBox=\"0 0 24 24\"\n",
              "     width=\"24px\">\n",
              "    <g>\n",
              "        <path d=\"M19 3H5c-1.1 0-2 .9-2 2v14c0 1.1.9 2 2 2h14c1.1 0 2-.9 2-2V5c0-1.1-.9-2-2-2zM9 17H7v-7h2v7zm4 0h-2V7h2v10zm4 0h-2v-4h2v4z\"/>\n",
              "    </g>\n",
              "</svg>\n",
              "      </button>\n",
              "\n",
              "<style>\n",
              "  .colab-df-quickchart {\n",
              "      --bg-color: #E8F0FE;\n",
              "      --fill-color: #1967D2;\n",
              "      --hover-bg-color: #E2EBFA;\n",
              "      --hover-fill-color: #174EA6;\n",
              "      --disabled-fill-color: #AAA;\n",
              "      --disabled-bg-color: #DDD;\n",
              "  }\n",
              "\n",
              "  [theme=dark] .colab-df-quickchart {\n",
              "      --bg-color: #3B4455;\n",
              "      --fill-color: #D2E3FC;\n",
              "      --hover-bg-color: #434B5C;\n",
              "      --hover-fill-color: #FFFFFF;\n",
              "      --disabled-bg-color: #3B4455;\n",
              "      --disabled-fill-color: #666;\n",
              "  }\n",
              "\n",
              "  .colab-df-quickchart {\n",
              "    background-color: var(--bg-color);\n",
              "    border: none;\n",
              "    border-radius: 50%;\n",
              "    cursor: pointer;\n",
              "    display: none;\n",
              "    fill: var(--fill-color);\n",
              "    height: 32px;\n",
              "    padding: 0;\n",
              "    width: 32px;\n",
              "  }\n",
              "\n",
              "  .colab-df-quickchart:hover {\n",
              "    background-color: var(--hover-bg-color);\n",
              "    box-shadow: 0 1px 2px rgba(60, 64, 67, 0.3), 0 1px 3px 1px rgba(60, 64, 67, 0.15);\n",
              "    fill: var(--button-hover-fill-color);\n",
              "  }\n",
              "\n",
              "  .colab-df-quickchart-complete:disabled,\n",
              "  .colab-df-quickchart-complete:disabled:hover {\n",
              "    background-color: var(--disabled-bg-color);\n",
              "    fill: var(--disabled-fill-color);\n",
              "    box-shadow: none;\n",
              "  }\n",
              "\n",
              "  .colab-df-spinner {\n",
              "    border: 2px solid var(--fill-color);\n",
              "    border-color: transparent;\n",
              "    border-bottom-color: var(--fill-color);\n",
              "    animation:\n",
              "      spin 1s steps(1) infinite;\n",
              "  }\n",
              "\n",
              "  @keyframes spin {\n",
              "    0% {\n",
              "      border-color: transparent;\n",
              "      border-bottom-color: var(--fill-color);\n",
              "      border-left-color: var(--fill-color);\n",
              "    }\n",
              "    20% {\n",
              "      border-color: transparent;\n",
              "      border-left-color: var(--fill-color);\n",
              "      border-top-color: var(--fill-color);\n",
              "    }\n",
              "    30% {\n",
              "      border-color: transparent;\n",
              "      border-left-color: var(--fill-color);\n",
              "      border-top-color: var(--fill-color);\n",
              "      border-right-color: var(--fill-color);\n",
              "    }\n",
              "    40% {\n",
              "      border-color: transparent;\n",
              "      border-right-color: var(--fill-color);\n",
              "      border-top-color: var(--fill-color);\n",
              "    }\n",
              "    60% {\n",
              "      border-color: transparent;\n",
              "      border-right-color: var(--fill-color);\n",
              "    }\n",
              "    80% {\n",
              "      border-color: transparent;\n",
              "      border-right-color: var(--fill-color);\n",
              "      border-bottom-color: var(--fill-color);\n",
              "    }\n",
              "    90% {\n",
              "      border-color: transparent;\n",
              "      border-bottom-color: var(--fill-color);\n",
              "    }\n",
              "  }\n",
              "</style>\n",
              "\n",
              "      <script>\n",
              "        async function quickchart(key) {\n",
              "          const quickchartButtonEl =\n",
              "            document.querySelector('#' + key + ' button');\n",
              "          quickchartButtonEl.disabled = true;  // To prevent multiple clicks.\n",
              "          quickchartButtonEl.classList.add('colab-df-spinner');\n",
              "          try {\n",
              "            const charts = await google.colab.kernel.invokeFunction(\n",
              "                'suggestCharts', [key], {});\n",
              "          } catch (error) {\n",
              "            console.error('Error during call to suggestCharts:', error);\n",
              "          }\n",
              "          quickchartButtonEl.classList.remove('colab-df-spinner');\n",
              "          quickchartButtonEl.classList.add('colab-df-quickchart-complete');\n",
              "        }\n",
              "        (() => {\n",
              "          let quickchartButtonEl =\n",
              "            document.querySelector('#df-34dbea53-aaa1-47a9-8edb-e1f0fa9d7fd6 button');\n",
              "          quickchartButtonEl.style.display =\n",
              "            google.colab.kernel.accessAllowed ? 'block' : 'none';\n",
              "        })();\n",
              "      </script>\n",
              "    </div>\n",
              "\n",
              "  <div id=\"id_2574f4f9-9f66-48bc-8d2d-b4bcc88ee2e1\">\n",
              "    <style>\n",
              "      .colab-df-generate {\n",
              "        background-color: #E8F0FE;\n",
              "        border: none;\n",
              "        border-radius: 50%;\n",
              "        cursor: pointer;\n",
              "        display: none;\n",
              "        fill: #1967D2;\n",
              "        height: 32px;\n",
              "        padding: 0 0 0 0;\n",
              "        width: 32px;\n",
              "      }\n",
              "\n",
              "      .colab-df-generate:hover {\n",
              "        background-color: #E2EBFA;\n",
              "        box-shadow: 0px 1px 2px rgba(60, 64, 67, 0.3), 0px 1px 3px 1px rgba(60, 64, 67, 0.15);\n",
              "        fill: #174EA6;\n",
              "      }\n",
              "\n",
              "      [theme=dark] .colab-df-generate {\n",
              "        background-color: #3B4455;\n",
              "        fill: #D2E3FC;\n",
              "      }\n",
              "\n",
              "      [theme=dark] .colab-df-generate:hover {\n",
              "        background-color: #434B5C;\n",
              "        box-shadow: 0px 1px 3px 1px rgba(0, 0, 0, 0.15);\n",
              "        filter: drop-shadow(0px 1px 2px rgba(0, 0, 0, 0.3));\n",
              "        fill: #FFFFFF;\n",
              "      }\n",
              "    </style>\n",
              "    <button class=\"colab-df-generate\" onclick=\"generateWithVariable('df')\"\n",
              "            title=\"Generate code using this dataframe.\"\n",
              "            style=\"display:none;\">\n",
              "\n",
              "  <svg xmlns=\"http://www.w3.org/2000/svg\" height=\"24px\"viewBox=\"0 0 24 24\"\n",
              "       width=\"24px\">\n",
              "    <path d=\"M7,19H8.4L18.45,9,17,7.55,7,17.6ZM5,21V16.75L18.45,3.32a2,2,0,0,1,2.83,0l1.4,1.43a1.91,1.91,0,0,1,.58,1.4,1.91,1.91,0,0,1-.58,1.4L9.25,21ZM18.45,9,17,7.55Zm-12,3A5.31,5.31,0,0,0,4.9,8.1,5.31,5.31,0,0,0,1,6.5,5.31,5.31,0,0,0,4.9,4.9,5.31,5.31,0,0,0,6.5,1,5.31,5.31,0,0,0,8.1,4.9,5.31,5.31,0,0,0,12,6.5,5.46,5.46,0,0,0,6.5,12Z\"/>\n",
              "  </svg>\n",
              "    </button>\n",
              "    <script>\n",
              "      (() => {\n",
              "      const buttonEl =\n",
              "        document.querySelector('#id_2574f4f9-9f66-48bc-8d2d-b4bcc88ee2e1 button.colab-df-generate');\n",
              "      buttonEl.style.display =\n",
              "        google.colab.kernel.accessAllowed ? 'block' : 'none';\n",
              "\n",
              "      buttonEl.onclick = () => {\n",
              "        google.colab.notebook.generateWithVariable('df');\n",
              "      }\n",
              "      })();\n",
              "    </script>\n",
              "  </div>\n",
              "\n",
              "    </div>\n",
              "  </div>\n"
            ],
            "application/vnd.google.colaboratory.intrinsic+json": {
              "type": "dataframe",
              "variable_name": "df"
            }
          },
          "metadata": {},
          "execution_count": 7
        }
      ]
    },
    {
      "cell_type": "code",
      "source": [
        "df.isnull().sum()"
      ],
      "metadata": {
        "id": "Cv4M1GnSWuGi",
        "colab": {
          "base_uri": "https://localhost:8080/",
          "height": 491
        },
        "outputId": "8c2d6ab3-6992-4a78-ab09-360195bf76bf"
      },
      "execution_count": null,
      "outputs": [
        {
          "output_type": "execute_result",
          "data": {
            "text/plain": [
              "category                         0\n",
              "age                              0\n",
              "sex                              0\n",
              "albumin                        122\n",
              "alkaline_phosphatase          2858\n",
              "alanine_aminotransferase       178\n",
              "aspartate_aminotransferase       0\n",
              "bilirubin                        0\n",
              "cholinesterase                   0\n",
              "cholesterol                   1545\n",
              "creatinine                       0\n",
              "gamma_glutamyl_transferase       0\n",
              "protein                        143\n",
              "dtype: int64"
            ],
            "text/html": [
              "<div>\n",
              "<style scoped>\n",
              "    .dataframe tbody tr th:only-of-type {\n",
              "        vertical-align: middle;\n",
              "    }\n",
              "\n",
              "    .dataframe tbody tr th {\n",
              "        vertical-align: top;\n",
              "    }\n",
              "\n",
              "    .dataframe thead th {\n",
              "        text-align: right;\n",
              "    }\n",
              "</style>\n",
              "<table border=\"1\" class=\"dataframe\">\n",
              "  <thead>\n",
              "    <tr style=\"text-align: right;\">\n",
              "      <th></th>\n",
              "      <th>0</th>\n",
              "    </tr>\n",
              "  </thead>\n",
              "  <tbody>\n",
              "    <tr>\n",
              "      <th>category</th>\n",
              "      <td>0</td>\n",
              "    </tr>\n",
              "    <tr>\n",
              "      <th>age</th>\n",
              "      <td>0</td>\n",
              "    </tr>\n",
              "    <tr>\n",
              "      <th>sex</th>\n",
              "      <td>0</td>\n",
              "    </tr>\n",
              "    <tr>\n",
              "      <th>albumin</th>\n",
              "      <td>122</td>\n",
              "    </tr>\n",
              "    <tr>\n",
              "      <th>alkaline_phosphatase</th>\n",
              "      <td>2858</td>\n",
              "    </tr>\n",
              "    <tr>\n",
              "      <th>alanine_aminotransferase</th>\n",
              "      <td>178</td>\n",
              "    </tr>\n",
              "    <tr>\n",
              "      <th>aspartate_aminotransferase</th>\n",
              "      <td>0</td>\n",
              "    </tr>\n",
              "    <tr>\n",
              "      <th>bilirubin</th>\n",
              "      <td>0</td>\n",
              "    </tr>\n",
              "    <tr>\n",
              "      <th>cholinesterase</th>\n",
              "      <td>0</td>\n",
              "    </tr>\n",
              "    <tr>\n",
              "      <th>cholesterol</th>\n",
              "      <td>1545</td>\n",
              "    </tr>\n",
              "    <tr>\n",
              "      <th>creatinine</th>\n",
              "      <td>0</td>\n",
              "    </tr>\n",
              "    <tr>\n",
              "      <th>gamma_glutamyl_transferase</th>\n",
              "      <td>0</td>\n",
              "    </tr>\n",
              "    <tr>\n",
              "      <th>protein</th>\n",
              "      <td>143</td>\n",
              "    </tr>\n",
              "  </tbody>\n",
              "</table>\n",
              "</div><br><label><b>dtype:</b> int64</label>"
            ]
          },
          "metadata": {},
          "execution_count": 8
        }
      ]
    },
    {
      "cell_type": "code",
      "source": [
        "print(df['alkaline_phosphatase'].nunique())\n",
        "print(df['alanine_aminotransferase'].nunique())\n",
        "print(df['albumin'].nunique())\n",
        "print(df['cholesterol'].nunique())\n",
        "print(df['protein'].nunique())"
      ],
      "metadata": {
        "id": "s8ihGiJUYO7o",
        "colab": {
          "base_uri": "https://localhost:8080/"
        },
        "outputId": "ad55f1bf-8f78-4dc6-c518-b98006185c63"
      },
      "execution_count": null,
      "outputs": [
        {
          "output_type": "stream",
          "name": "stdout",
          "text": [
            "8156\n",
            "6413\n",
            "3161\n",
            "813\n",
            "2869\n"
          ]
        }
      ]
    },
    {
      "cell_type": "code",
      "source": [
        "import matplotlib.pyplot as plt\n",
        "import seaborn as sns\n",
        "\n",
        "sns.histplot(df['alkaline_phosphatase'], kde=True)"
      ],
      "metadata": {
        "id": "sgtZMl3GWy3s",
        "colab": {
          "base_uri": "https://localhost:8080/",
          "height": 467
        },
        "outputId": "724469de-af3a-48cc-9a16-a3dd17105823"
      },
      "execution_count": null,
      "outputs": [
        {
          "output_type": "execute_result",
          "data": {
            "text/plain": [
              "<Axes: xlabel='alkaline_phosphatase', ylabel='Count'>"
            ]
          },
          "metadata": {},
          "execution_count": 10
        },
        {
          "output_type": "display_data",
          "data": {
            "text/plain": [
              "<Figure size 640x480 with 1 Axes>"
            ],
            "image/png": "[encoded data removed]"
          },
          "metadata": {}
        }
      ]
    },
    {
      "cell_type": "code",
      "source": [
        "sns.histplot(df['albumin'], kde=True)"
      ],
      "metadata": {
        "id": "2FreAjbDXBT_",
        "colab": {
          "base_uri": "https://localhost:8080/",
          "height": 470
        },
        "outputId": "a78a0854-2661-4999-e1ea-e90f4d5005ab"
      },
      "execution_count": null,
      "outputs": [
        {
          "output_type": "execute_result",
          "data": {
            "text/plain": [
              "<Axes: xlabel='albumin', ylabel='Count'>"
            ]
          },
          "metadata": {},
          "execution_count": 11
        },
        {
          "output_type": "display_data",
          "data": {
            "text/plain": [
              "<Figure size 640x480 with 1 Axes>"
            ],
            "image/png": "[encoded data removed]"
          },
          "metadata": {}
        }
      ]
    },
    {
      "cell_type": "code",
      "source": [
        "sns.histplot(df['alanine_aminotransferase'], kde=True)"
      ],
      "metadata": {
        "colab": {
          "base_uri": "https://localhost:8080/",
          "height": 467
        },
        "id": "olroQOEoXO_N",
        "outputId": "701b14c5-833e-44d0-f7fd-1cd451175754"
      },
      "execution_count": null,
      "outputs": [
        {
          "output_type": "execute_result",
          "data": {
            "text/plain": [
              "<Axes: xlabel='alanine_aminotransferase', ylabel='Count'>"
            ]
          },
          "metadata": {},
          "execution_count": 12
        },
        {
          "output_type": "display_data",
          "data": {
            "text/plain": [
              "<Figure size 640x480 with 1 Axes>"
            ],
            "image/png": "[encoded data removed]"
          },
          "metadata": {}
        }
      ]
    },
    {
      "cell_type": "code",
      "source": [
        "sns.histplot(df['cholesterol'],kde=True)"
      ],
      "metadata": {
        "id": "OJuz_x2WXWJj",
        "colab": {
          "base_uri": "https://localhost:8080/",
          "height": 466
        },
        "outputId": "ba63c529-1dbd-4ea1-914b-6ecfe2b95c11"
      },
      "execution_count": null,
      "outputs": [
        {
          "output_type": "execute_result",
          "data": {
            "text/plain": [
              "<Axes: xlabel='cholesterol', ylabel='Count'>"
            ]
          },
          "metadata": {},
          "execution_count": 13
        },
        {
          "output_type": "display_data",
          "data": {
            "text/plain": [
              "<Figure size 640x480 with 1 Axes>"
            ],
            "image/png": "[encoded data removed]"
          },
          "metadata": {}
        }
      ]
    },
    {
      "cell_type": "code",
      "source": [
        "sns.histplot(df['protein'],kde=True)"
      ],
      "metadata": {
        "id": "7LTPrl_VaCpj",
        "colab": {
          "base_uri": "https://localhost:8080/",
          "height": 466
        },
        "outputId": "d7405af0-7e94-4e78-c6dc-c56e5153e214"
      },
      "execution_count": null,
      "outputs": [
        {
          "output_type": "execute_result",
          "data": {
            "text/plain": [
              "<Axes: xlabel='protein', ylabel='Count'>"
            ]
          },
          "metadata": {},
          "execution_count": 14
        },
        {
          "output_type": "display_data",
          "data": {
            "text/plain": [
              "<Figure size 640x480 with 1 Axes>"
            ],
            "image/png": "[encoded data removed]"
          },
          "metadata": {}
        }
      ]
    },
    {
      "cell_type": "code",
      "source": [
        "df['albumin'] = df['albumin'].fillna(df['albumin'].mean())"
      ],
      "metadata": {
        "id": "Ebs6M20pYLks"
      },
      "execution_count": null,
      "outputs": []
    },
    {
      "cell_type": "code",
      "source": [
        "df['alkaline_phosphatase'] = df['alkaline_phosphatase'].fillna(df['alkaline_phosphatase'].median())"
      ],
      "metadata": {
        "id": "5cqZao1SZdNY"
      },
      "execution_count": null,
      "outputs": []
    },
    {
      "cell_type": "code",
      "source": [
        "df['alanine_aminotransferase'] = df['alanine_aminotransferase'].fillna(df['alanine_aminotransferase'].median())"
      ],
      "metadata": {
        "id": "gz43N90OZuPa"
      },
      "execution_count": null,
      "outputs": []
    },
    {
      "cell_type": "code",
      "source": [
        "df['cholesterol'] = df['cholesterol'].fillna(df['cholesterol'].mean())"
      ],
      "metadata": {
        "id": "7EEDIfhAZ7Bx"
      },
      "execution_count": null,
      "outputs": []
    },
    {
      "cell_type": "code",
      "source": [
        "df['protein'] = df['protein'].fillna(df['protein'].median())"
      ],
      "metadata": {
        "id": "svSeFLF-aBGi"
      },
      "execution_count": null,
      "outputs": []
    },
    {
      "cell_type": "code",
      "source": [
        "df.isnull().sum()"
      ],
      "metadata": {
        "id": "G9GhReZGaWX7",
        "colab": {
          "base_uri": "https://localhost:8080/",
          "height": 491
        },
        "outputId": "99933f0f-3acc-41af-f627-b3c451c1e67f"
      },
      "execution_count": null,
      "outputs": [
        {
          "output_type": "execute_result",
          "data": {
            "text/plain": [
              "category                      0\n",
              "age                           0\n",
              "sex                           0\n",
              "albumin                       0\n",
              "alkaline_phosphatase          0\n",
              "alanine_aminotransferase      0\n",
              "aspartate_aminotransferase    0\n",
              "bilirubin                     0\n",
              "cholinesterase                0\n",
              "cholesterol                   0\n",
              "creatinine                    0\n",
              "gamma_glutamyl_transferase    0\n",
              "protein                       0\n",
              "dtype: int64"
            ],
            "text/html": [
              "<div>\n",
              "<style scoped>\n",
              "    .dataframe tbody tr th:only-of-type {\n",
              "        vertical-align: middle;\n",
              "    }\n",
              "\n",
              "    .dataframe tbody tr th {\n",
              "        vertical-align: top;\n",
              "    }\n",
              "\n",
              "    .dataframe thead th {\n",
              "        text-align: right;\n",
              "    }\n",
              "</style>\n",
              "<table border=\"1\" class=\"dataframe\">\n",
              "  <thead>\n",
              "    <tr style=\"text-align: right;\">\n",
              "      <th></th>\n",
              "      <th>0</th>\n",
              "    </tr>\n",
              "  </thead>\n",
              "  <tbody>\n",
              "    <tr>\n",
              "      <th>category</th>\n",
              "      <td>0</td>\n",
              "    </tr>\n",
              "    <tr>\n",
              "      <th>age</th>\n",
              "      <td>0</td>\n",
              "    </tr>\n",
              "    <tr>\n",
              "      <th>sex</th>\n",
              "      <td>0</td>\n",
              "    </tr>\n",
              "    <tr>\n",
              "      <th>albumin</th>\n",
              "      <td>0</td>\n",
              "    </tr>\n",
              "    <tr>\n",
              "      <th>alkaline_phosphatase</th>\n",
              "      <td>0</td>\n",
              "    </tr>\n",
              "    <tr>\n",
              "      <th>alanine_aminotransferase</th>\n",
              "      <td>0</td>\n",
              "    </tr>\n",
              "    <tr>\n",
              "      <th>aspartate_aminotransferase</th>\n",
              "      <td>0</td>\n",
              "    </tr>\n",
              "    <tr>\n",
              "      <th>bilirubin</th>\n",
              "      <td>0</td>\n",
              "    </tr>\n",
              "    <tr>\n",
              "      <th>cholinesterase</th>\n",
              "      <td>0</td>\n",
              "    </tr>\n",
              "    <tr>\n",
              "      <th>cholesterol</th>\n",
              "      <td>0</td>\n",
              "    </tr>\n",
              "    <tr>\n",
              "      <th>creatinine</th>\n",
              "      <td>0</td>\n",
              "    </tr>\n",
              "    <tr>\n",
              "      <th>gamma_glutamyl_transferase</th>\n",
              "      <td>0</td>\n",
              "    </tr>\n",
              "    <tr>\n",
              "      <th>protein</th>\n",
              "      <td>0</td>\n",
              "    </tr>\n",
              "  </tbody>\n",
              "</table>\n",
              "</div><br><label><b>dtype:</b> int64</label>"
            ]
          },
          "metadata": {},
          "execution_count": 20
        }
      ]
    },
    {
      "cell_type": "code",
      "source": [
        "sns.boxplot(df)"
      ],
      "metadata": {
        "id": "AyRMQsrTaqa3",
        "colab": {
          "base_uri": "https://localhost:8080/",
          "height": 447
        },
        "outputId": "d17539f4-c526-4aeb-f933-508d4ce878fb"
      },
      "execution_count": null,
      "outputs": [
        {
          "output_type": "execute_result",
          "data": {
            "text/plain": [
              "<Axes: >"
            ]
          },
          "metadata": {},
          "execution_count": 21
        },
        {
          "output_type": "display_data",
          "data": {
            "text/plain": [
              "<Figure size 640x480 with 1 Axes>"
            ],
            "image/png": "[encoded data removed]"
          },
          "metadata": {}
        }
      ]
    },
    {
      "cell_type": "code",
      "source": [
        "sns.boxplot(df['protein'])"
      ],
      "metadata": {
        "id": "deRgBGbmbD-P",
        "colab": {
          "base_uri": "https://localhost:8080/",
          "height": 428
        },
        "outputId": "ddba81a0-e226-4517-edef-001aaf87db10"
      },
      "execution_count": null,
      "outputs": [
        {
          "output_type": "execute_result",
          "data": {
            "text/plain": [
              "<Axes: ylabel='protein'>"
            ]
          },
          "metadata": {},
          "execution_count": 22
        },
        {
          "output_type": "display_data",
          "data": {
            "text/plain": [
              "<Figure size 640x480 with 1 Axes>"
            ],
            "image/png": "[encoded data removed]"
          },
          "metadata": {}
        }
      ]
    },
    {
      "cell_type": "code",
      "source": [
        "df['category'].unique()"
      ],
      "metadata": {
        "id": "444LSQagfqOG",
        "colab": {
          "base_uri": "https://localhost:8080/"
        },
        "outputId": "cb31394d-8422-43f3-f394-0fd8d5e0d05d"
      },
      "execution_count": null,
      "outputs": [
        {
          "output_type": "execute_result",
          "data": {
            "text/plain": [
              "array([' no_disease', 'suspect_disease', ' hepatitis', ' fibrosis',\n",
              "       ' cirrhosis'], dtype=object)"
            ]
          },
          "metadata": {},
          "execution_count": 23
        }
      ]
    },
    {
      "cell_type": "code",
      "source": [
        "outlier_columns = ['age','alkaline_phosphatase', 'albumin', 'alanine_aminotransferase','aspartate_aminotransferase','bilirubin','cholinesterase','cholesterol','creatinine', 'protein','gamma_glutamyl_transferase']\n"
      ],
      "metadata": {
        "id": "PLqO3vRGatoT"
      },
      "execution_count": null,
      "outputs": []
    },
    {
      "cell_type": "code",
      "source": [
        "import numpy as np\n",
        "for col in outlier_columns:\n",
        "    q1 = df[col].quantile(0.25)\n",
        "    q3 = df[col].quantile(0.75)\n",
        "    iqr = q3 - q1\n",
        "    lower_bound = q1 - 1.5 * iqr\n",
        "    upper_bound = q3 + 1.5 * iqr\n",
        "    df[col] = np.where(df[col] < lower_bound, lower_bound,\n",
        "                       np.where(df[col] > upper_bound, upper_bound,df[col]))"
      ],
      "metadata": {
        "id": "nO-IvlHDb4or"
      },
      "execution_count": null,
      "outputs": []
    },
    {
      "cell_type": "code",
      "source": [
        "df['category'].unique()"
      ],
      "metadata": {
        "id": "CRdWWqk7fZaA",
        "colab": {
          "base_uri": "https://localhost:8080/"
        },
        "outputId": "55631e55-1497-4ec2-e2dc-76fafe564b5f"
      },
      "execution_count": null,
      "outputs": [
        {
          "output_type": "execute_result",
          "data": {
            "text/plain": [
              "array([' no_disease', 'suspect_disease', ' hepatitis', ' fibrosis',\n",
              "       ' cirrhosis'], dtype=object)"
            ]
          },
          "metadata": {},
          "execution_count": 26
        }
      ]
    },
    {
      "cell_type": "code",
      "source": [
        "df.shape"
      ],
      "metadata": {
        "id": "WYkUUhLdcZA2",
        "colab": {
          "base_uri": "https://localhost:8080/"
        },
        "outputId": "5ccdeace-f605-436c-bc27-1b47f96f1e15"
      },
      "execution_count": null,
      "outputs": [
        {
          "output_type": "execute_result",
          "data": {
            "text/plain": [
              "(100202, 13)"
            ]
          },
          "metadata": {},
          "execution_count": 27
        }
      ]
    },
    {
      "cell_type": "code",
      "source": [
        "from sklearn.preprocessing import LabelEncoder\n",
        "le = LabelEncoder()\n",
        "df['sex'] = le.fit_transform(df['sex'])"
      ],
      "metadata": {
        "id": "RRioDJcwc-Vc"
      },
      "execution_count": null,
      "outputs": []
    },
    {
      "cell_type": "code",
      "source": [
        "df['category'].unique()"
      ],
      "metadata": {
        "id": "9Av_XcGee3Rx",
        "colab": {
          "base_uri": "https://localhost:8080/"
        },
        "outputId": "6d15467e-3488-460b-f483-31c7065f3eb3"
      },
      "execution_count": null,
      "outputs": [
        {
          "output_type": "execute_result",
          "data": {
            "text/plain": [
              "array([' no_disease', 'suspect_disease', ' hepatitis', ' fibrosis',\n",
              "       ' cirrhosis'], dtype=object)"
            ]
          },
          "metadata": {},
          "execution_count": 29
        }
      ]
    },
    {
      "cell_type": "code",
      "source": [
        "X = df.drop('category', axis=1)\n",
        "y = df['category']"
      ],
      "metadata": {
        "id": "ubhhDVi4e40o"
      },
      "execution_count": null,
      "outputs": []
    },
    {
      "cell_type": "code",
      "source": [
        "# from sklearn.preprocessing import OneHotEncoder\n",
        "import numpy as np\n",
        "from sklearn.model_selection import train_test_split\n",
        "from keras.utils import to_categorical\n",
        "y_encode = le.fit_transform(y)\n",
        "y_cat = to_categorical(y_encode)\n",
        "X_train, X_test, y_train, y_test = train_test_split(X, y_cat, test_size=0.2, random_state=42)"
      ],
      "metadata": {
        "id": "SWDSg4uQia68"
      },
      "execution_count": null,
      "outputs": []
    },
    {
      "cell_type": "code",
      "source": [
        "y_cat"
      ],
      "metadata": {
        "id": "yutFD_OYa_n4",
        "colab": {
          "base_uri": "https://localhost:8080/"
        },
        "outputId": "1a08aeb2-0d41-4cb1-e312-e683a959ef3f"
      },
      "execution_count": null,
      "outputs": [
        {
          "output_type": "execute_result",
          "data": {
            "text/plain": [
              "array([[0., 0., 0., 1., 0.],\n",
              "       [0., 0., 0., 1., 0.],\n",
              "       [0., 0., 0., 1., 0.],\n",
              "       ...,\n",
              "       [0., 0., 0., 1., 0.],\n",
              "       [0., 0., 0., 1., 0.],\n",
              "       [0., 0., 1., 0., 0.]])"
            ]
          },
          "metadata": {},
          "execution_count": 32
        }
      ]
    },
    {
      "cell_type": "code",
      "source": [
        "y_cat[0]"
      ],
      "metadata": {
        "id": "bBbi1eWzbB5z",
        "colab": {
          "base_uri": "https://localhost:8080/"
        },
        "outputId": "2e6e6d43-d4b1-42cc-883f-4f28515430f8"
      },
      "execution_count": null,
      "outputs": [
        {
          "output_type": "execute_result",
          "data": {
            "text/plain": [
              "array([0., 0., 0., 1., 0.])"
            ]
          },
          "metadata": {},
          "execution_count": 33
        }
      ]
    },
    {
      "cell_type": "code",
      "source": [
        "y_cat.shape"
      ],
      "metadata": {
        "id": "gZqDm79WbFp1",
        "colab": {
          "base_uri": "https://localhost:8080/"
        },
        "outputId": "99e1bb68-0267-4cdc-ea31-d29dfd4981c3"
      },
      "execution_count": null,
      "outputs": [
        {
          "output_type": "execute_result",
          "data": {
            "text/plain": [
              "(100202, 5)"
            ]
          },
          "metadata": {},
          "execution_count": 34
        }
      ]
    },
    {
      "cell_type": "code",
      "source": [
        "X_train.shape"
      ],
      "metadata": {
        "id": "51VEJLdcigH_",
        "colab": {
          "base_uri": "https://localhost:8080/"
        },
        "outputId": "1cd26172-62bd-414a-9b7f-a06b7eba917c"
      },
      "execution_count": null,
      "outputs": [
        {
          "output_type": "execute_result",
          "data": {
            "text/plain": [
              "(80161, 12)"
            ]
          },
          "metadata": {},
          "execution_count": 35
        }
      ]
    },
    {
      "cell_type": "code",
      "source": [
        "y_train.shape"
      ],
      "metadata": {
        "id": "Wigw8b2QXAH8",
        "colab": {
          "base_uri": "https://localhost:8080/"
        },
        "outputId": "0ef99893-6ef1-4c1f-e856-4045f60857f0"
      },
      "execution_count": null,
      "outputs": [
        {
          "output_type": "execute_result",
          "data": {
            "text/plain": [
              "(80161, 5)"
            ]
          },
          "metadata": {},
          "execution_count": 36
        }
      ]
    },
    {
      "cell_type": "code",
      "source": [
        "X_test.shape"
      ],
      "metadata": {
        "id": "dBwTly7AinkN",
        "colab": {
          "base_uri": "https://localhost:8080/"
        },
        "outputId": "67aa45bc-9c0a-43f1-f7fd-1841f5d535a9"
      },
      "execution_count": null,
      "outputs": [
        {
          "output_type": "execute_result",
          "data": {
            "text/plain": [
              "(20041, 12)"
            ]
          },
          "metadata": {},
          "execution_count": 37
        }
      ]
    },
    {
      "cell_type": "code",
      "source": [
        "from keras.models import Sequential\n",
        "from keras.layers import Dense, Dropout, BatchNormalization\n",
        "from keras.callbacks import EarlyStopping, ModelCheckpoint\n",
        "model=Sequential()\n",
        "model.add(Dense(8,kernel_initializer='he_uniform',activation='relu', input_shape=(X_train.shape[1],)))\n",
        "model.add(Dropout(0.2))\n",
        "model.add(Dense(16,kernel_initializer='random_uniform',activation='relu'))\n",
        "model.add(Dense(32,kernel_initializer='random_uniform',activation='relu'))\n",
        "model.add(Dense(64,kernel_initializer='random_uniform',activation='relu'))\n",
        "model.add(Dense(128,kernel_initializer='random_uniform',activation='relu'))\n",
        "model.add(Dense(5,kernel_initializer='random_uniform',activation='softmax'))\n"
      ],
      "metadata": {
        "id": "5bnDOxyjip7B",
        "colab": {
          "base_uri": "https://localhost:8080/"
        },
        "outputId": "73010ff0-50f9-4469-bc8d-1a3c68d406fe"
      },
      "execution_count": null,
      "outputs": [
        {
          "output_type": "stream",
          "name": "stderr",
          "text": [
            "/usr/local/lib/python3.11/dist-packages/keras/src/layers/core/dense.py:87: UserWarning: Do not pass an `input_shape`/`input_dim` argument to a layer. When using Sequential models, prefer using an `Input(shape)` object as the first layer in the model instead.\n",
            "  super().__init__(activity_regularizer=activity_regularizer, **kwargs)\n"
          ]
        }
      ]
    },
    {
      "cell_type": "code",
      "source": [
        "model.compile(optimizer='adam', loss='categorical_crossentropy', metrics=['accuracy'])"
      ],
      "metadata": {
        "id": "t8Gp28kbjJLd"
      },
      "execution_count": null,
      "outputs": []
    },
    {
      "cell_type": "code",
      "source": [
        "model.summary()"
      ],
      "metadata": {
        "id": "h1nfyabBjm0q",
        "colab": {
          "base_uri": "https://localhost:8080/",
          "height": 353
        },
        "outputId": "93e2fff9-ad5e-4e4a-872d-c471b22a4366"
      },
      "execution_count": null,
      "outputs": [
        {
          "output_type": "display_data",
          "data": {
            "text/plain": [
              "\u001b[1mModel: \"sequential\"\u001b[0m\n"
            ],
            "text/html": [
              "<pre style=\"white-space:pre;overflow-x:auto;line-height:normal;font-family:Menlo,'DejaVu Sans Mono',consolas,'Courier New',monospace\"><span style=\"font-weight: bold\">Model: \"sequential\"</span>\n",
              "</pre>\n"
            ]
          },
          "metadata": {}
        },
        {
          "output_type": "display_data",
          "data": {
            "text/plain": [
              "┏━━━━━━━━━━━━━━━━━━━━━━━━━━━━━━━━━┳━━━━━━━━━━━━━━━━━━━━━━━━┳━━━━━━━━━━━━━━━┓\n",
              "┃\u001b[1m \u001b[0m\u001b[1mLayer (type)                   \u001b[0m\u001b[1m \u001b[0m┃\u001b[1m \u001b[0m\u001b[1mOutput Shape          \u001b[0m\u001b[1m \u001b[0m┃\u001b[1m \u001b[0m\u001b[1m      Param #\u001b[0m\u001b[1m \u001b[0m┃\n",
              "┡━━━━━━━━━━━━━━━━━━━━━━━━━━━━━━━━━╇━━━━━━━━━━━━━━━━━━━━━━━━╇━━━━━━━━━━━━━━━┩\n",
              "│ dense (\u001b[38;5;33mDense\u001b[0m)                   │ (\u001b[38;5;45mNone\u001b[0m, \u001b[38;5;34m8\u001b[0m)              │           \u001b[38;5;34m104\u001b[0m │\n",
              "├─────────────────────────────────┼────────────────────────┼───────────────┤\n",
              "│ dropout (\u001b[38;5;33mDropout\u001b[0m)               │ (\u001b[38;5;45mNone\u001b[0m, \u001b[38;5;34m8\u001b[0m)              │             \u001b[38;5;34m0\u001b[0m │\n",
              "├─────────────────────────────────┼────────────────────────┼───────────────┤\n",
              "│ dense_1 (\u001b[38;5;33mDense\u001b[0m)                 │ (\u001b[38;5;45mNone\u001b[0m, \u001b[38;5;34m16\u001b[0m)             │           \u001b[38;5;34m144\u001b[0m │\n",
              "├─────────────────────────────────┼────────────────────────┼───────────────┤\n",
              "│ dense_2 (\u001b[38;5;33mDense\u001b[0m)                 │ (\u001b[38;5;45mNone\u001b[0m, \u001b[38;5;34m32\u001b[0m)             │           \u001b[38;5;34m544\u001b[0m │\n",
              "├─────────────────────────────────┼────────────────────────┼───────────────┤\n",
              "│ dense_3 (\u001b[38;5;33mDense\u001b[0m)                 │ (\u001b[38;5;45mNone\u001b[0m, \u001b[38;5;34m64\u001b[0m)             │         \u001b[38;5;34m2,112\u001b[0m │\n",
              "├─────────────────────────────────┼────────────────────────┼───────────────┤\n",
              "│ dense_4 (\u001b[38;5;33mDense\u001b[0m)                 │ (\u001b[38;5;45mNone\u001b[0m, \u001b[38;5;34m128\u001b[0m)            │         \u001b[38;5;34m8,320\u001b[0m │\n",
              "├─────────────────────────────────┼────────────────────────┼───────────────┤\n",
              "│ dense_5 (\u001b[38;5;33mDense\u001b[0m)                 │ (\u001b[38;5;45mNone\u001b[0m, \u001b[38;5;34m5\u001b[0m)              │           \u001b[38;5;34m645\u001b[0m │\n",
              "└─────────────────────────────────┴────────────────────────┴───────────────┘\n"
            ],
            "text/html": [
              "<pre style=\"white-space:pre;overflow-x:auto;line-height:normal;font-family:Menlo,'DejaVu Sans Mono',consolas,'Courier New',monospace\">┏━━━━━━━━━━━━━━━━━━━━━━━━━━━━━━━━━┳━━━━━━━━━━━━━━━━━━━━━━━━┳━━━━━━━━━━━━━━━┓\n",
              "┃<span style=\"font-weight: bold\"> Layer (type)                    </span>┃<span style=\"font-weight: bold\"> Output Shape           </span>┃<span style=\"font-weight: bold\">       Param # </span>┃\n",
              "┡━━━━━━━━━━━━━━━━━━━━━━━━━━━━━━━━━╇━━━━━━━━━━━━━━━━━━━━━━━━╇━━━━━━━━━━━━━━━┩\n",
              "│ dense (<span style=\"color: #0087ff; text-decoration-color: #0087ff\">Dense</span>)                   │ (<span style=\"color: #00d7ff; text-decoration-color: #00d7ff\">None</span>, <span style=\"color: #00af00; text-decoration-color: #00af00\">8</span>)              │           <span style=\"color: #00af00; text-decoration-color: #00af00\">104</span> │\n",
              "├─────────────────────────────────┼────────────────────────┼───────────────┤\n",
              "│ dropout (<span style=\"color: #0087ff; text-decoration-color: #0087ff\">Dropout</span>)               │ (<span style=\"color: #00d7ff; text-decoration-color: #00d7ff\">None</span>, <span style=\"color: #00af00; text-decoration-color: #00af00\">8</span>)              │             <span style=\"color: #00af00; text-decoration-color: #00af00\">0</span> │\n",
              "├─────────────────────────────────┼────────────────────────┼───────────────┤\n",
              "│ dense_1 (<span style=\"color: #0087ff; text-decoration-color: #0087ff\">Dense</span>)                 │ (<span style=\"color: #00d7ff; text-decoration-color: #00d7ff\">None</span>, <span style=\"color: #00af00; text-decoration-color: #00af00\">16</span>)             │           <span style=\"color: #00af00; text-decoration-color: #00af00\">144</span> │\n",
              "├─────────────────────────────────┼────────────────────────┼───────────────┤\n",
              "│ dense_2 (<span style=\"color: #0087ff; text-decoration-color: #0087ff\">Dense</span>)                 │ (<span style=\"color: #00d7ff; text-decoration-color: #00d7ff\">None</span>, <span style=\"color: #00af00; text-decoration-color: #00af00\">32</span>)             │           <span style=\"color: #00af00; text-decoration-color: #00af00\">544</span> │\n",
              "├─────────────────────────────────┼────────────────────────┼───────────────┤\n",
              "│ dense_3 (<span style=\"color: #0087ff; text-decoration-color: #0087ff\">Dense</span>)                 │ (<span style=\"color: #00d7ff; text-decoration-color: #00d7ff\">None</span>, <span style=\"color: #00af00; text-decoration-color: #00af00\">64</span>)             │         <span style=\"color: #00af00; text-decoration-color: #00af00\">2,112</span> │\n",
              "├─────────────────────────────────┼────────────────────────┼───────────────┤\n",
              "│ dense_4 (<span style=\"color: #0087ff; text-decoration-color: #0087ff\">Dense</span>)                 │ (<span style=\"color: #00d7ff; text-decoration-color: #00d7ff\">None</span>, <span style=\"color: #00af00; text-decoration-color: #00af00\">128</span>)            │         <span style=\"color: #00af00; text-decoration-color: #00af00\">8,320</span> │\n",
              "├─────────────────────────────────┼────────────────────────┼───────────────┤\n",
              "│ dense_5 (<span style=\"color: #0087ff; text-decoration-color: #0087ff\">Dense</span>)                 │ (<span style=\"color: #00d7ff; text-decoration-color: #00d7ff\">None</span>, <span style=\"color: #00af00; text-decoration-color: #00af00\">5</span>)              │           <span style=\"color: #00af00; text-decoration-color: #00af00\">645</span> │\n",
              "└─────────────────────────────────┴────────────────────────┴───────────────┘\n",
              "</pre>\n"
            ]
          },
          "metadata": {}
        },
        {
          "output_type": "display_data",
          "data": {
            "text/plain": [
              "\u001b[1m Total params: \u001b[0m\u001b[38;5;34m11,869\u001b[0m (46.36 KB)\n"
            ],
            "text/html": [
              "<pre style=\"white-space:pre;overflow-x:auto;line-height:normal;font-family:Menlo,'DejaVu Sans Mono',consolas,'Courier New',monospace\"><span style=\"font-weight: bold\"> Total params: </span><span style=\"color: #00af00; text-decoration-color: #00af00\">11,869</span> (46.36 KB)\n",
              "</pre>\n"
            ]
          },
          "metadata": {}
        },
        {
          "output_type": "display_data",
          "data": {
            "text/plain": [
              "\u001b[1m Trainable params: \u001b[0m\u001b[38;5;34m11,869\u001b[0m (46.36 KB)\n"
            ],
            "text/html": [
              "<pre style=\"white-space:pre;overflow-x:auto;line-height:normal;font-family:Menlo,'DejaVu Sans Mono',consolas,'Courier New',monospace\"><span style=\"font-weight: bold\"> Trainable params: </span><span style=\"color: #00af00; text-decoration-color: #00af00\">11,869</span> (46.36 KB)\n",
              "</pre>\n"
            ]
          },
          "metadata": {}
        },
        {
          "output_type": "display_data",
          "data": {
            "text/plain": [
              "\u001b[1m Non-trainable params: \u001b[0m\u001b[38;5;34m0\u001b[0m (0.00 B)\n"
            ],
            "text/html": [
              "<pre style=\"white-space:pre;overflow-x:auto;line-height:normal;font-family:Menlo,'DejaVu Sans Mono',consolas,'Courier New',monospace\"><span style=\"font-weight: bold\"> Non-trainable params: </span><span style=\"color: #00af00; text-decoration-color: #00af00\">0</span> (0.00 B)\n",
              "</pre>\n"
            ]
          },
          "metadata": {}
        }
      ]
    },
    {
      "cell_type": "code",
      "source": [
        "early_stop = EarlyStopping(\n",
        "    monitor='val_loss',\n",
        "    patience = 4,\n",
        "    restore_best_weights=True,\n",
        "    verbose=1\n",
        ")"
      ],
      "metadata": {
        "id": "2J711RdUjpGa"
      },
      "execution_count": null,
      "outputs": []
    },
    {
      "cell_type": "code",
      "source": [
        "checkpoint = ModelCheckpoint(\n",
        "    'Chrun_model.keras',\n",
        "    monitor='val_loss',\n",
        "    save_best_only=True,\n",
        "    verbose=1\n",
        ")"
      ],
      "metadata": {
        "id": "q6eFkmpejthY"
      },
      "execution_count": null,
      "outputs": []
    },
    {
      "cell_type": "code",
      "source": [
        "histroy = model.fit(\n",
        "    X_train, y_train,\n",
        "    validation_split=0.2,\n",
        "    batch_size=64,\n",
        "    epochs=20,\n",
        "    callbacks=[early_stop, checkpoint],\n",
        "    verbose=1\n",
        ")"
      ],
      "metadata": {
        "id": "X8ggol8wjz1r",
        "colab": {
          "base_uri": "https://localhost:8080/"
        },
        "outputId": "70878e44-011d-4b71-f8f9-17a734e98828"
      },
      "execution_count": null,
      "outputs": [
        {
          "output_type": "stream",
          "name": "stdout",
          "text": [
            "Epoch 1/20\n",
            "\u001b[1m 998/1002\u001b[0m \u001b[32m━━━━━━━━━━━━━━━━━━━\u001b[0m\u001b[37m━\u001b[0m \u001b[1m0s\u001b[0m 3ms/step - accuracy: 0.8672 - loss: 0.5767\n",
            "Epoch 1: val_loss improved from inf to 0.27461, saving model to Chrun_model.keras\n",
            "\u001b[1m1002/1002\u001b[0m \u001b[32m━━━━━━━━━━━━━━━━━━━━\u001b[0m\u001b[37m\u001b[0m \u001b[1m8s\u001b[0m 4ms/step - accuracy: 0.8673 - loss: 0.5760 - val_accuracy: 0.9104 - val_loss: 0.2746\n",
            "Epoch 2/20\n",
            "\u001b[1m 985/1002\u001b[0m \u001b[32m━━━━━━━━━━━━━━━━━━━\u001b[0m\u001b[37m━\u001b[0m \u001b[1m0s\u001b[0m 2ms/step - accuracy: 0.9067 - loss: 0.2852\n",
            "Epoch 2: val_loss improved from 0.27461 to 0.19351, saving model to Chrun_model.keras\n",
            "\u001b[1m1002/1002\u001b[0m \u001b[32m━━━━━━━━━━━━━━━━━━━━\u001b[0m\u001b[37m\u001b[0m \u001b[1m3s\u001b[0m 3ms/step - accuracy: 0.9068 - loss: 0.2848 - val_accuracy: 0.9356 - val_loss: 0.1935\n",
            "Epoch 3/20\n",
            "\u001b[1m 995/1002\u001b[0m \u001b[32m━━━━━━━━━━━━━━━━━━━\u001b[0m\u001b[37m━\u001b[0m \u001b[1m0s\u001b[0m 2ms/step - accuracy: 0.9273 - loss: 0.2156\n",
            "Epoch 3: val_loss improved from 0.19351 to 0.18589, saving model to Chrun_model.keras\n",
            "\u001b[1m1002/1002\u001b[0m \u001b[32m━━━━━━━━━━━━━━━━━━━━\u001b[0m\u001b[37m\u001b[0m \u001b[1m3s\u001b[0m 3ms/step - accuracy: 0.9273 - loss: 0.2156 - val_accuracy: 0.9366 - val_loss: 0.1859\n",
            "Epoch 4/20\n",
            "\u001b[1m 980/1002\u001b[0m \u001b[32m━━━━━━━━━━━━━━━━━━━\u001b[0m\u001b[37m━\u001b[0m \u001b[1m0s\u001b[0m 3ms/step - accuracy: 0.9348 - loss: 0.1995\n",
            "Epoch 4: val_loss improved from 0.18589 to 0.16706, saving model to Chrun_model.keras\n",
            "\u001b[1m1002/1002\u001b[0m \u001b[32m━━━━━━━━━━━━━━━━━━━━\u001b[0m\u001b[37m\u001b[0m \u001b[1m5s\u001b[0m 3ms/step - accuracy: 0.9348 - loss: 0.1994 - val_accuracy: 0.9444 - val_loss: 0.1671\n",
            "Epoch 5/20\n",
            "\u001b[1m 987/1002\u001b[0m \u001b[32m━━━━━━━━━━━━━━━━━━━\u001b[0m\u001b[37m━\u001b[0m \u001b[1m0s\u001b[0m 2ms/step - accuracy: 0.9418 - loss: 0.1790\n",
            "Epoch 5: val_loss improved from 0.16706 to 0.12493, saving model to Chrun_model.keras\n",
            "\u001b[1m1002/1002\u001b[0m \u001b[32m━━━━━━━━━━━━━━━━━━━━\u001b[0m\u001b[37m\u001b[0m \u001b[1m5s\u001b[0m 3ms/step - accuracy: 0.9418 - loss: 0.1790 - val_accuracy: 0.9653 - val_loss: 0.1249\n",
            "Epoch 6/20\n",
            "\u001b[1m 987/1002\u001b[0m \u001b[32m━━━━━━━━━━━━━━━━━━━\u001b[0m\u001b[37m━\u001b[0m \u001b[1m0s\u001b[0m 2ms/step - accuracy: 0.9459 - loss: 0.1721\n",
            "Epoch 6: val_loss improved from 0.12493 to 0.11099, saving model to Chrun_model.keras\n",
            "\u001b[1m1002/1002\u001b[0m \u001b[32m━━━━━━━━━━━━━━━━━━━━\u001b[0m\u001b[37m\u001b[0m \u001b[1m3s\u001b[0m 3ms/step - accuracy: 0.9459 - loss: 0.1721 - val_accuracy: 0.9646 - val_loss: 0.1110\n",
            "Epoch 7/20\n",
            "\u001b[1m 980/1002\u001b[0m \u001b[32m━━━━━━━━━━━━━━━━━━━\u001b[0m\u001b[37m━\u001b[0m \u001b[1m0s\u001b[0m 3ms/step - accuracy: 0.9471 - loss: 0.1605\n",
            "Epoch 7: val_loss did not improve from 0.11099\n",
            "\u001b[1m1002/1002\u001b[0m \u001b[32m━━━━━━━━━━━━━━━━━━━━\u001b[0m\u001b[37m\u001b[0m \u001b[1m4s\u001b[0m 3ms/step - accuracy: 0.9471 - loss: 0.1605 - val_accuracy: 0.9590 - val_loss: 0.1459\n",
            "Epoch 8/20\n",
            "\u001b[1m 982/1002\u001b[0m \u001b[32m━━━━━━━━━━━━━━━━━━━\u001b[0m\u001b[37m━\u001b[0m \u001b[1m0s\u001b[0m 2ms/step - accuracy: 0.9529 - loss: 0.1461\n",
            "Epoch 8: val_loss did not improve from 0.11099\n",
            "\u001b[1m1002/1002\u001b[0m \u001b[32m━━━━━━━━━━━━━━━━━━━━\u001b[0m\u001b[37m\u001b[0m \u001b[1m4s\u001b[0m 3ms/step - accuracy: 0.9529 - loss: 0.1462 - val_accuracy: 0.9540 - val_loss: 0.1335\n",
            "Epoch 9/20\n",
            "\u001b[1m1002/1002\u001b[0m \u001b[32m━━━━━━━━━━━━━━━━━━━━\u001b[0m\u001b[37m\u001b[0m \u001b[1m0s\u001b[0m 2ms/step - accuracy: 0.9550 - loss: 0.1379\n",
            "Epoch 9: val_loss improved from 0.11099 to 0.08625, saving model to Chrun_model.keras\n",
            "\u001b[1m1002/1002\u001b[0m \u001b[32m━━━━━━━━━━━━━━━━━━━━\u001b[0m\u001b[37m\u001b[0m \u001b[1m5s\u001b[0m 3ms/step - accuracy: 0.9550 - loss: 0.1379 - val_accuracy: 0.9743 - val_loss: 0.0862\n",
            "Epoch 10/20\n",
            "\u001b[1m 993/1002\u001b[0m \u001b[32m━━━━━━━━━━━━━━━━━━━\u001b[0m\u001b[37m━\u001b[0m \u001b[1m0s\u001b[0m 3ms/step - accuracy: 0.9580 - loss: 0.1325\n",
            "Epoch 10: val_loss improved from 0.08625 to 0.08616, saving model to Chrun_model.keras\n",
            "\u001b[1m1002/1002\u001b[0m \u001b[32m━━━━━━━━━━━━━━━━━━━━\u001b[0m\u001b[37m\u001b[0m \u001b[1m3s\u001b[0m 3ms/step - accuracy: 0.9580 - loss: 0.1325 - val_accuracy: 0.9727 - val_loss: 0.0862\n",
            "Epoch 11/20\n",
            "\u001b[1m 989/1002\u001b[0m \u001b[32m━━━━━━━━━━━━━━━━━━━\u001b[0m\u001b[37m━\u001b[0m \u001b[1m0s\u001b[0m 2ms/step - accuracy: 0.9597 - loss: 0.1275\n",
            "Epoch 11: val_loss did not improve from 0.08616\n",
            "\u001b[1m1002/1002\u001b[0m \u001b[32m━━━━━━━━━━━━━━━━━━━━\u001b[0m\u001b[37m\u001b[0m \u001b[1m5s\u001b[0m 3ms/step - accuracy: 0.9597 - loss: 0.1274 - val_accuracy: 0.9711 - val_loss: 0.0876\n",
            "Epoch 12/20\n",
            "\u001b[1m 990/1002\u001b[0m \u001b[32m━━━━━━━━━━━━━━━━━━━\u001b[0m\u001b[37m━\u001b[0m \u001b[1m0s\u001b[0m 2ms/step - accuracy: 0.9615 - loss: 0.1199\n",
            "Epoch 12: val_loss did not improve from 0.08616\n",
            "\u001b[1m1002/1002\u001b[0m \u001b[32m━━━━━━━━━━━━━━━━━━━━\u001b[0m\u001b[37m\u001b[0m \u001b[1m3s\u001b[0m 3ms/step - accuracy: 0.9615 - loss: 0.1199 - val_accuracy: 0.9582 - val_loss: 0.1047\n",
            "Epoch 13/20\n",
            "\u001b[1m 987/1002\u001b[0m \u001b[32m━━━━━━━━━━━━━━━━━━━\u001b[0m\u001b[37m━\u001b[0m \u001b[1m0s\u001b[0m 2ms/step - accuracy: 0.9641 - loss: 0.1142\n",
            "Epoch 13: val_loss improved from 0.08616 to 0.08431, saving model to Chrun_model.keras\n",
            "\u001b[1m1002/1002\u001b[0m \u001b[32m━━━━━━━━━━━━━━━━━━━━\u001b[0m\u001b[37m\u001b[0m \u001b[1m5s\u001b[0m 3ms/step - accuracy: 0.9641 - loss: 0.1142 - val_accuracy: 0.9740 - val_loss: 0.0843\n",
            "Epoch 14/20\n",
            "\u001b[1m 986/1002\u001b[0m \u001b[32m━━━━━━━━━━━━━━━━━━━\u001b[0m\u001b[37m━\u001b[0m \u001b[1m0s\u001b[0m 3ms/step - accuracy: 0.9627 - loss: 0.1158\n",
            "Epoch 14: val_loss improved from 0.08431 to 0.07008, saving model to Chrun_model.keras\n",
            "\u001b[1m1002/1002\u001b[0m \u001b[32m━━━━━━━━━━━━━━━━━━━━\u001b[0m\u001b[37m\u001b[0m \u001b[1m3s\u001b[0m 3ms/step - accuracy: 0.9628 - loss: 0.1157 - val_accuracy: 0.9749 - val_loss: 0.0701\n",
            "Epoch 15/20\n",
            "\u001b[1m1001/1002\u001b[0m \u001b[32m━━━━━━━━━━━━━━━━━━━\u001b[0m\u001b[37m━\u001b[0m \u001b[1m0s\u001b[0m 3ms/step - accuracy: 0.9651 - loss: 0.1105\n",
            "Epoch 15: val_loss did not improve from 0.07008\n",
            "\u001b[1m1002/1002\u001b[0m \u001b[32m━━━━━━━━━━━━━━━━━━━━\u001b[0m\u001b[37m\u001b[0m \u001b[1m6s\u001b[0m 4ms/step - accuracy: 0.9651 - loss: 0.1105 - val_accuracy: 0.9722 - val_loss: 0.0849\n",
            "Epoch 16/20\n",
            "\u001b[1m 984/1002\u001b[0m \u001b[32m━━━━━━━━━━━━━━━━━━━\u001b[0m\u001b[37m━\u001b[0m \u001b[1m0s\u001b[0m 2ms/step - accuracy: 0.9670 - loss: 0.1032\n",
            "Epoch 16: val_loss did not improve from 0.07008\n",
            "\u001b[1m1002/1002\u001b[0m \u001b[32m━━━━━━━━━━━━━━━━━━━━\u001b[0m\u001b[37m\u001b[0m \u001b[1m3s\u001b[0m 3ms/step - accuracy: 0.9670 - loss: 0.1032 - val_accuracy: 0.9686 - val_loss: 0.0790\n",
            "Epoch 17/20\n",
            "\u001b[1m 994/1002\u001b[0m \u001b[32m━━━━━━━━━━━━━━━━━━━\u001b[0m\u001b[37m━\u001b[0m \u001b[1m0s\u001b[0m 2ms/step - accuracy: 0.9686 - loss: 0.0958\n",
            "Epoch 17: val_loss did not improve from 0.07008\n",
            "\u001b[1m1002/1002\u001b[0m \u001b[32m━━━━━━━━━━━━━━━━━━━━\u001b[0m\u001b[37m\u001b[0m \u001b[1m5s\u001b[0m 3ms/step - accuracy: 0.9686 - loss: 0.0958 - val_accuracy: 0.9575 - val_loss: 0.1061\n",
            "Epoch 18/20\n",
            "\u001b[1m 986/1002\u001b[0m \u001b[32m━━━━━━━━━━━━━━━━━━━\u001b[0m\u001b[37m━\u001b[0m \u001b[1m0s\u001b[0m 2ms/step - accuracy: 0.9697 - loss: 0.0950\n",
            "Epoch 18: val_loss did not improve from 0.07008\n",
            "\u001b[1m1002/1002\u001b[0m \u001b[32m━━━━━━━━━━━━━━━━━━━━\u001b[0m\u001b[37m\u001b[0m \u001b[1m4s\u001b[0m 4ms/step - accuracy: 0.9697 - loss: 0.0950 - val_accuracy: 0.9618 - val_loss: 0.0869\n",
            "Epoch 18: early stopping\n",
            "Restoring model weights from the end of the best epoch: 14.\n"
          ]
        }
      ]
    },
    {
      "cell_type": "code",
      "source": [
        "model.evaluate(X_test, y_test)"
      ],
      "metadata": {
        "id": "charhQn6j4iP",
        "colab": {
          "base_uri": "https://localhost:8080/"
        },
        "outputId": "d10af30c-c40a-41c9-88b8-d8f1e7749fa9"
      },
      "execution_count": null,
      "outputs": [
        {
          "output_type": "stream",
          "name": "stdout",
          "text": [
            "\u001b[1m627/627\u001b[0m \u001b[32m━━━━━━━━━━━━━━━━━━━━\u001b[0m\u001b[37m\u001b[0m \u001b[1m2s\u001b[0m 3ms/step - accuracy: 0.9733 - loss: 0.0742\n"
          ]
        },
        {
          "output_type": "execute_result",
          "data": {
            "text/plain": [
              "[0.06891576945781708, 0.975450336933136]"
            ]
          },
          "metadata": {},
          "execution_count": 44
        }
      ]
    },
    {
      "cell_type": "code",
      "source": [
        "model.evaluate(X_train, y_train)"
      ],
      "metadata": {
        "id": "zAv_DHgdpAh9",
        "colab": {
          "base_uri": "https://localhost:8080/"
        },
        "outputId": "7b14e91f-fa96-4e63-ed8a-b95671f412ce"
      },
      "execution_count": null,
      "outputs": [
        {
          "output_type": "stream",
          "name": "stdout",
          "text": [
            "\u001b[1m2506/2506\u001b[0m \u001b[32m━━━━━━━━━━━━━━━━━━━━\u001b[0m\u001b[37m\u001b[0m \u001b[1m5s\u001b[0m 2ms/step - accuracy: 0.9746 - loss: 0.0701\n"
          ]
        },
        {
          "output_type": "execute_result",
          "data": {
            "text/plain": [
              "[0.07090171426534653, 0.9740896224975586]"
            ]
          },
          "metadata": {},
          "execution_count": 45
        }
      ]
    },
    {
      "cell_type": "code",
      "source": [
        "from sklearn.metrics import classification_report, roc_auc_score\n",
        "import numpy as np\n",
        "\n",
        "y_proba = model.predict(X_test)\n",
        "y_pred = np.argmax(y_proba, axis=1)\n",
        "y_test_labels = np.argmax(y_test, axis=1)\n",
        "\n",
        "\n",
        "print(classification_report(y_test_labels, y_pred))\n",
        "print(\"ROC AUC:\", roc_auc_score(y_test, y_proba, multi_class='ovr'))"
      ],
      "metadata": {
        "id": "MBjnOmqX3tow",
        "colab": {
          "base_uri": "https://localhost:8080/"
        },
        "outputId": "b6840de1-9607-4948-80de-f165a9732c91"
      },
      "execution_count": null,
      "outputs": [
        {
          "output_type": "stream",
          "name": "stdout",
          "text": [
            "\u001b[1m627/627\u001b[0m \u001b[32m━━━━━━━━━━━━━━━━━━━━\u001b[0m\u001b[37m\u001b[0m \u001b[1m1s\u001b[0m 2ms/step\n",
            "              precision    recall  f1-score   support\n",
            "\n",
            "           0       0.94      0.96      0.95       976\n",
            "           1       0.76      0.80      0.78       683\n",
            "           2       0.91      0.74      0.82       794\n",
            "           3       0.99      0.99      0.99     17348\n",
            "           4       1.00      0.87      0.93       240\n",
            "\n",
            "    accuracy                           0.98     20041\n",
            "   macro avg       0.92      0.88      0.89     20041\n",
            "weighted avg       0.98      0.98      0.98     20041\n",
            "\n",
            "ROC AUC: 0.9968888045541373\n"
          ]
        }
      ]
    },
    {
      "cell_type": "code",
      "source": [
        "histroy.history"
      ],
      "metadata": {
        "id": "m6_ZzLTU_JPb",
        "colab": {
          "base_uri": "https://localhost:8080/"
        },
        "outputId": "270f287f-f512-4a02-a8bd-cfe382a121f6"
      },
      "execution_count": null,
      "outputs": [
        {
          "output_type": "execute_result",
          "data": {
            "text/plain": [
              "{'accuracy': [0.8819080591201782,\n",
              "  0.9126746654510498,\n",
              "  0.9293912053108215,\n",
              "  0.9362992644309998,\n",
              "  0.9428642988204956,\n",
              "  0.9469186663627625,\n",
              "  0.9486495852470398,\n",
              "  0.951815128326416,\n",
              "  0.9554796814918518,\n",
              "  0.9590194821357727,\n",
              "  0.9603605270385742,\n",
              "  0.9623097777366638,\n",
              "  0.963370144367218,\n",
              "  0.9641966223716736,\n",
              "  0.9659587144851685,\n",
              "  0.9677051901817322,\n",
              "  0.9673153758049011,\n",
              "  0.9699351191520691],\n",
              " 'loss': [0.425086110830307,\n",
              "  0.2635304927825928,\n",
              "  0.2101682424545288,\n",
              "  0.19436199963092804,\n",
              "  0.17797055840492249,\n",
              "  0.1669367104768753,\n",
              "  0.1577303111553192,\n",
              "  0.14906491339206696,\n",
              "  0.13935481011867523,\n",
              "  0.1317877173423767,\n",
              "  0.1265692114830017,\n",
              "  0.11980818957090378,\n",
              "  0.11603466421365738,\n",
              "  0.11196310818195343,\n",
              "  0.10672867298126221,\n",
              "  0.10164473950862885,\n",
              "  0.09976858645677567,\n",
              "  0.09404637664556503],\n",
              " 'val_accuracy': [0.9103723764419556,\n",
              "  0.9356327652931213,\n",
              "  0.9366307258605957,\n",
              "  0.9444271326065063,\n",
              "  0.9653215408325195,\n",
              "  0.96463543176651,\n",
              "  0.9589596390724182,\n",
              "  0.954032301902771,\n",
              "  0.9743030071258545,\n",
              "  0.9726813435554504,\n",
              "  0.9711220860481262,\n",
              "  0.9582111835479736,\n",
              "  0.9739911556243896,\n",
              "  0.9749267101287842,\n",
              "  0.9721823930740356,\n",
              "  0.9686272144317627,\n",
              "  0.957462728023529,\n",
              "  0.9617663621902466],\n",
              " 'val_loss': [0.27460843324661255,\n",
              "  0.19351468980312347,\n",
              "  0.1858883798122406,\n",
              "  0.16706052422523499,\n",
              "  0.1249251738190651,\n",
              "  0.11099227517843246,\n",
              "  0.14594539999961853,\n",
              "  0.1334644854068756,\n",
              "  0.08624827861785889,\n",
              "  0.08615829050540924,\n",
              "  0.08758830279111862,\n",
              "  0.10473008453845978,\n",
              "  0.08431434631347656,\n",
              "  0.0700792521238327,\n",
              "  0.08494752645492554,\n",
              "  0.07903743535280228,\n",
              "  0.10610852390527725,\n",
              "  0.08694115281105042]}"
            ]
          },
          "metadata": {},
          "execution_count": 47
        }
      ]
    },
    {
      "cell_type": "code",
      "metadata": {
        "id": "0302a1ba",
        "colab": {
          "base_uri": "https://localhost:8080/",
          "height": 1000
        },
        "outputId": "9b4d12a8-109e-450a-b227-ed9b8e81d20e"
      },
      "source": [
        "import matplotlib.pyplot as plt\n",
        "\n",
        "# Plot training & validation accuracy values\n",
        "plt.figure(figsize=(12, 6))\n",
        "plt.plot(histroy.history['accuracy'])\n",
        "plt.plot(histroy.history['val_accuracy'])\n",
        "plt.title('Model Accuracy')\n",
        "plt.ylabel('Accuracy')\n",
        "plt.xlabel('Epoch')\n",
        "plt.legend(['Train', 'Validation'], loc='upper left')\n",
        "plt.show()\n",
        "\n",
        "# Plot training & validation loss values\n",
        "plt.figure(figsize=(12, 6))\n",
        "plt.plot(histroy.history['loss'])\n",
        "plt.plot(histroy.history['val_loss'])\n",
        "plt.title('Model Loss')\n",
        "plt.ylabel('Loss')\n",
        "plt.xlabel('Epoch')\n",
        "plt.legend(['Train', 'Validation'], loc='upper left')\n",
        "plt.show()"
      ],
      "execution_count": null,
      "outputs": [
        {
          "output_type": "display_data",
          "data": {
            "text/plain": [
              "<Figure size 1200x600 with 1 Axes>"
            ],
            "image/png": "[encoded data removed]"
          },
          "metadata": {}
        },
        {
          "output_type": "display_data",
          "data": {
            "text/plain": [
              "<Figure size 1200x600 with 1 Axes>"
            ],
            "image/png": "[encoded data removed]"
          },
          "metadata": {}
        }
      ]
    }
  ]
}